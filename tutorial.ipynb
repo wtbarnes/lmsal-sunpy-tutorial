{
 "cells": [
  {
   "cell_type": "code",
   "execution_count": null,
   "metadata": {},
   "outputs": [],
   "source": [
    "import glob\n",
    "\n",
    "import numpy as np\n",
    "import matplotlib.pyplot as plt\n",
    "\n",
    "import astropy.time\n",
    "import astropy.units as u\n",
    "from astropy.coordinates import SkyCoord\n",
    "from astropy.visualization import ImageNormalize,SqrtStretch,LogStretch\n",
    "\n",
    "from sunpy.net import Fido, attrs\n",
    "from sunpy.time import TimeRange\n",
    "from sunpy.map import Map\n",
    "import sunpy.io.fits\n",
    "from sunpy.physics.differential_rotation import differential_rotate\n",
    "\n",
    "import aiapy.calibrate\n",
    "import aiapy.response\n",
    "\n",
    "%matplotlib inline"
   ]
  },
  {
   "cell_type": "markdown",
   "metadata": {},
   "source": [
    "# Analyzing AIA Data with sunpy and aiapy\n",
    "## LMSAL Python Club — 10 October 2019"
   ]
  },
  {
   "cell_type": "markdown",
   "metadata": {},
   "source": [
    "All materials related to this tutorial are available at [github.com/wtbarnes/lmsal-sunpy-tutorial](https://github.com/wtbarnes/lmsal-sunpy-tutorial). There are several helpful references listed [here](https://github.com/wtbarnes/lmsal-sunpy-tutorial/blob/master/README.md#resources)."
   ]
  },
  {
   "cell_type": "markdown",
   "metadata": {},
   "source": [
    "In this tutorial, we'll cover the basic capabilities in `sunpy` for downloading, reading, and manipulating 2D image data. We'll then use the `aiapy` package to do some AIA-specific operations on these images."
   ]
  },
  {
   "cell_type": "markdown",
   "metadata": {},
   "source": [
    "## Querying Data"
   ]
  },
  {
   "cell_type": "markdown",
   "metadata": {},
   "source": [
    "First, let's grab a few AIA images. The main interface for downloading data in `sunpy` is called `Fido`. Using `Fido`, one can query a wide range of data sources (e.g. JSOC, VSO, FTP sites) given many different criteria such as time, instrument, and wavelength.\n",
    "\n",
    "In this example, we'll query the VSO for AIA 171 images for the twelve hour interval starting on 2010 September 29 23:51:36 at a cadence of 4 hours.\n"
   ]
  },
  {
   "cell_type": "code",
   "execution_count": null,
   "metadata": {},
   "outputs": [],
   "source": [
    "q = Fido.search(\n",
    "    attrs.Time(TimeRange(astropy.time.Time('2010-09-29T23:51:36'), 12*u.h)),\n",
    "    attrs.Instrument('AIA'),\n",
    "    attrs.Sample(4*u.h),\n",
    "    attrs.Wavelength(171*u.angstrom),\n",
    ")"
   ]
  },
  {
   "cell_type": "code",
   "execution_count": null,
   "metadata": {},
   "outputs": [],
   "source": [
    "q"
   ]
  },
  {
   "cell_type": "markdown",
   "metadata": {},
   "source": [
    "This gives us back a table of four results. To download these, we can pass this results table to `Fido.fetch`."
   ]
  },
  {
   "cell_type": "code",
   "execution_count": null,
   "metadata": {},
   "outputs": [],
   "source": [
    "files = Fido.fetch(q)"
   ]
  },
  {
   "cell_type": "markdown",
   "metadata": {},
   "source": [
    "Once the download finishes, this returns a list of paths to the locations of the files on your local machine."
   ]
  },
  {
   "cell_type": "markdown",
   "metadata": {},
   "source": [
    "**NOTE:** If you're on a machine where the \"SUMS\" directories can be resolved locally (e.g. LMSAL, Stanford), see [this notebook](advanced/querying-drms.ipynb)."
   ]
  },
  {
   "cell_type": "code",
   "execution_count": null,
   "metadata": {},
   "outputs": [],
   "source": [
    "# If the download is slow/not working, just grab them locally\n",
    "#files = glob.glob('data/aia_lev1_171a_2010_09*.fits')"
   ]
  },
  {
   "cell_type": "code",
   "execution_count": null,
   "metadata": {},
   "outputs": [],
   "source": [
    "files = sorted(files)"
   ]
  },
  {
   "cell_type": "code",
   "execution_count": null,
   "metadata": {},
   "outputs": [],
   "source": [
    "files"
   ]
  },
  {
   "cell_type": "markdown",
   "metadata": {},
   "source": [
    "## The `Map` Object"
   ]
  },
  {
   "cell_type": "markdown",
   "metadata": {},
   "source": [
    "The `Map` object is one of two primary data containers in `sunpy` (the other is [`TimeSeries`]() though we will not cover that in this notebook). In this section, we'll walk through how to load data into a `Map` and the various properties that the `Map` object exposes."
   ]
  },
  {
   "cell_type": "markdown",
   "metadata": {},
   "source": [
    "### Constructing a `Map`"
   ]
  },
  {
   "cell_type": "markdown",
   "metadata": {},
   "source": [
    "To read in data from an AIA FITS file, we can simply pass the name of the file to the `Map` object."
   ]
  },
  {
   "cell_type": "code",
   "execution_count": null,
   "metadata": {},
   "outputs": [],
   "source": [
    "m = Map(files[0])"
   ]
  },
  {
   "cell_type": "markdown",
   "metadata": {},
   "source": [
    "The `Map` object looks at header and recognizes it as an AIA observation."
   ]
  },
  {
   "cell_type": "code",
   "execution_count": null,
   "metadata": {},
   "outputs": [],
   "source": [
    "m"
   ]
  },
  {
   "cell_type": "markdown",
   "metadata": {},
   "source": [
    "Let's take a quick look at the data to make sure we've read in the right image."
   ]
  },
  {
   "cell_type": "code",
   "execution_count": null,
   "metadata": {},
   "outputs": [],
   "source": [
    "m.peek()"
   ]
  },
  {
   "cell_type": "markdown",
   "metadata": {},
   "source": [
    "There are many different ways to construct a `Map`. For example, we can read the data in by hand and then pass the header and image data to `Map`."
   ]
  },
  {
   "cell_type": "code",
   "execution_count": null,
   "metadata": {},
   "outputs": [],
   "source": [
    "_,(data,header) = sunpy.io.fits.read(files[0],)"
   ]
  },
  {
   "cell_type": "code",
   "execution_count": null,
   "metadata": {},
   "outputs": [],
   "source": [
    "m = Map(data,header)"
   ]
  },
  {
   "cell_type": "markdown",
   "metadata": {},
   "source": [
    "This is convenient when we want to modify the data or metadata in some way and then construct a new map from the modified data or metadata."
   ]
  },
  {
   "cell_type": "markdown",
   "metadata": {},
   "source": [
    "**NOTE:** When loading in or visualizing an image, `Map` is **not** manipulating the data, e.g. it is not being derotated, processed to level 1.5, reprojected, or being normalized in any way. These operations must be applied *explicitly*."
   ]
  },
  {
   "cell_type": "code",
   "execution_count": null,
   "metadata": {},
   "outputs": [],
   "source": [
    "m.data"
   ]
  },
  {
   "cell_type": "code",
   "execution_count": null,
   "metadata": {},
   "outputs": [],
   "source": [
    "m.data[2000,2000]"
   ]
  },
  {
   "cell_type": "code",
   "execution_count": null,
   "metadata": {},
   "outputs": [],
   "source": [
    "m.data[:,3000]"
   ]
  },
  {
   "cell_type": "code",
   "execution_count": null,
   "metadata": {},
   "outputs": [],
   "source": [
    "m.meta"
   ]
  },
  {
   "cell_type": "markdown",
   "metadata": {},
   "source": [
    "However, we do not need to search through the many header keywords to get useful information about our image. The `Map` object exposes many of these as attributes which can be accessed via the `.` operator."
   ]
  },
  {
   "cell_type": "code",
   "execution_count": null,
   "metadata": {},
   "outputs": [],
   "source": [
    "m.date"
   ]
  },
  {
   "cell_type": "code",
   "execution_count": null,
   "metadata": {},
   "outputs": [],
   "source": [
    "m.dimensions"
   ]
  },
  {
   "cell_type": "code",
   "execution_count": null,
   "metadata": {},
   "outputs": [],
   "source": [
    "m.exposure_time"
   ]
  },
  {
   "cell_type": "code",
   "execution_count": null,
   "metadata": {},
   "outputs": [],
   "source": [
    "m.scale"
   ]
  },
  {
   "cell_type": "code",
   "execution_count": null,
   "metadata": {},
   "outputs": [],
   "source": [
    "m.wavelength"
   ]
  },
  {
   "cell_type": "markdown",
   "metadata": {},
   "source": [
    "**NOTE:** In a Jupyter notebook, if you type `m.` and then press the the tab key, you will be presented with a list of all the attributes and methods available for `Map`."
   ]
  },
  {
   "cell_type": "markdown",
   "metadata": {},
   "source": [
    "## Aside: Sequences of Multiple Images (in time, wavelength, etc.)"
   ]
  },
  {
   "cell_type": "markdown",
   "metadata": {},
   "source": [
    "`Map` does support loading multiple images in a sequence. For example, to load the sequence of AIA images we queried above,"
   ]
  },
  {
   "cell_type": "code",
   "execution_count": null,
   "metadata": {},
   "outputs": [],
   "source": [
    "map_seq = Map(files, sequence=True)"
   ]
  },
  {
   "cell_type": "code",
   "execution_count": null,
   "metadata": {},
   "outputs": [],
   "source": [
    "map_seq"
   ]
  },
  {
   "cell_type": "code",
   "execution_count": null,
   "metadata": {},
   "outputs": [],
   "source": [
    "len(map_seq.maps)"
   ]
  },
  {
   "cell_type": "code",
   "execution_count": null,
   "metadata": {},
   "outputs": [],
   "source": [
    "map_seq.maps[2]"
   ]
  },
  {
   "cell_type": "code",
   "execution_count": null,
   "metadata": {},
   "outputs": [],
   "source": [
    "map_seq.as_array().shape"
   ]
  },
  {
   "cell_type": "markdown",
   "metadata": {},
   "source": [
    "However, `MapSequence` has seen little development in the recent years and its capabilities are fairly limited. This is partially because efforts around multi-dimensional data representation have been focused on the [NDCube](https://docs.sunpy.org/projects/ndcube/en/stable/) project, a SunPy-affiliated package."
   ]
  },
  {
   "cell_type": "markdown",
   "metadata": {},
   "source": [
    "## Aside: Units"
   ]
  },
  {
   "cell_type": "markdown",
   "metadata": {},
   "source": [
    "In `sunpy`, all inputs and outputs that represent physical quantities must have units atteched to them, i.e. they must be represented as an `astropy.units.Quantity` object (data + unit).\n",
    "\n",
    "The unit of these physical quantities can be accessed as,"
   ]
  },
  {
   "cell_type": "code",
   "execution_count": null,
   "metadata": {},
   "outputs": [],
   "source": [
    "m.wavelength.unit"
   ]
  },
  {
   "cell_type": "markdown",
   "metadata": {},
   "source": [
    "And the raw values can also be isolated,"
   ]
  },
  {
   "cell_type": "code",
   "execution_count": null,
   "metadata": {},
   "outputs": [],
   "source": [
    "m.wavelength.value"
   ]
  },
  {
   "cell_type": "markdown",
   "metadata": {},
   "source": [
    "It is also simple to convert between different units"
   ]
  },
  {
   "cell_type": "code",
   "execution_count": null,
   "metadata": {},
   "outputs": [],
   "source": [
    "m.wavelength.to(u.nm)"
   ]
  },
  {
   "cell_type": "code",
   "execution_count": null,
   "metadata": {},
   "outputs": [],
   "source": [
    "m.wavelength.to('cm')"
   ]
  },
  {
   "cell_type": "markdown",
   "metadata": {},
   "source": [
    "You can do arithmetic between them as well"
   ]
  },
  {
   "cell_type": "code",
   "execution_count": null,
   "metadata": {},
   "outputs": [],
   "source": [
    "10 * u.m / (5 * u.s)"
   ]
  },
  {
   "cell_type": "code",
   "execution_count": null,
   "metadata": {},
   "outputs": [],
   "source": [
    "1 * u.h + 2 * u.minute"
   ]
  },
  {
   "cell_type": "code",
   "execution_count": null,
   "metadata": {},
   "outputs": [],
   "source": [
    "(1 * u.h + 2 * u.minute).to(u.s)"
   ]
  },
  {
   "cell_type": "markdown",
   "metadata": {},
   "source": [
    "Attaching units to everything prevents you from making silly mistakes! (This should not work)"
   ]
  },
  {
   "cell_type": "code",
   "execution_count": null,
   "metadata": {},
   "outputs": [],
   "source": [
    "1 * u.erg + 34 * u.s"
   ]
  },
  {
   "cell_type": "markdown",
   "metadata": {},
   "source": [
    "You can even construct quantities from \"imperial\" units"
   ]
  },
  {
   "cell_type": "code",
   "execution_count": null,
   "metadata": {},
   "outputs": [],
   "source": [
    "24 * u.imperial.inch / u.minute + 7 * u.imperial.furlong / u.day"
   ]
  },
  {
   "cell_type": "markdown",
   "metadata": {},
   "source": [
    "All of this functionality extends to arrays as well. Any$^*$ operation you can do with a NumPy array, you can do with a `Quantity`.\n",
    "\n",
    "$*$ Not every NumPy function will preserve the units on a quantity and some may complain about them. If that is the case, you can always get the raw values (with `.value`) and attach the units after returning the result."
   ]
  },
  {
   "cell_type": "code",
   "execution_count": null,
   "metadata": {},
   "outputs": [],
   "source": [
    "v = np.random.rand(10) * u.cm / u.s\n",
    "v"
   ]
  },
  {
   "cell_type": "code",
   "execution_count": null,
   "metadata": {},
   "outputs": [],
   "source": [
    "v * u.Quantity(0.1, 's')"
   ]
  },
  {
   "cell_type": "markdown",
   "metadata": {},
   "source": [
    "## Image Manipulation"
   ]
  },
  {
   "cell_type": "markdown",
   "metadata": {},
   "source": [
    "Thus far, we've fetched our data, loaded it into a `Map`, and looked at the various bits of metadata that `Map` exposes. Now, we want explore various ways in which we can manipulate our image data."
   ]
  },
  {
   "cell_type": "markdown",
   "metadata": {},
   "source": [
    "### Resampling"
   ]
  },
  {
   "cell_type": "markdown",
   "metadata": {},
   "source": [
    "Choose a new resolution for the map"
   ]
  },
  {
   "cell_type": "code",
   "execution_count": null,
   "metadata": {},
   "outputs": [],
   "source": [
    "new_res = 30 * u.arcsec / u.pixel"
   ]
  },
  {
   "cell_type": "markdown",
   "metadata": {},
   "source": [
    "Use the existing dimensions and the resolution, we can calculate the new dimensions of our resampled `Map`."
   ]
  },
  {
   "cell_type": "code",
   "execution_count": null,
   "metadata": {},
   "outputs": [],
   "source": [
    "dim_x = m.dimensions.x * m.scale.axis1 / new_res\n",
    "dim_y = m.dimensions.y * m.scale.axis2 / new_res\n",
    "new_dimensions = u.Quantity([dim_x,dim_y])\n",
    "new_dimensions"
   ]
  },
  {
   "cell_type": "code",
   "execution_count": null,
   "metadata": {},
   "outputs": [],
   "source": [
    "m_resample = m.resample(new_dimensions)"
   ]
  },
  {
   "cell_type": "markdown",
   "metadata": {},
   "source": [
    "And when we expect the metadata, we should find it has the appropriate resolution and dimensions"
   ]
  },
  {
   "cell_type": "code",
   "execution_count": null,
   "metadata": {},
   "outputs": [],
   "source": [
    "m_resample.scale"
   ]
  },
  {
   "cell_type": "code",
   "execution_count": null,
   "metadata": {},
   "outputs": [],
   "source": [
    "m_resample.dimensions"
   ]
  },
  {
   "cell_type": "code",
   "execution_count": null,
   "metadata": {},
   "outputs": [],
   "source": [
    "m_resample.peek()"
   ]
  },
  {
   "cell_type": "markdown",
   "metadata": {},
   "source": [
    "### Rotating"
   ]
  },
  {
   "cell_type": "markdown",
   "metadata": {},
   "source": [
    "We can also rotate our `Map` about the axis that points out of the page."
   ]
  },
  {
   "cell_type": "code",
   "execution_count": null,
   "metadata": {},
   "outputs": [],
   "source": [
    "m_rot = m.rotate(angle=45*u.degree)"
   ]
  },
  {
   "cell_type": "code",
   "execution_count": null,
   "metadata": {},
   "outputs": [],
   "source": [
    "m_rot.peek()"
   ]
  },
  {
   "cell_type": "markdown",
   "metadata": {},
   "source": [
    "This will come up again when we demonstrate image [registration](#Data-\"Prep\")."
   ]
  },
  {
   "cell_type": "markdown",
   "metadata": {},
   "source": [
    "### Cropping"
   ]
  },
  {
   "cell_type": "markdown",
   "metadata": {},
   "source": [
    "We can create cutouts from our images using the `.submap` method. `submap()` takes two arguments: the lower left corner and upper right corner of the bounding box that define the cutout."
   ]
  },
  {
   "cell_type": "code",
   "execution_count": null,
   "metadata": {},
   "outputs": [],
   "source": [
    "m_sub = m.submap(\n",
    "    SkyCoord(150*u.arcsec, 50*u.arcsec, frame=m.coordinate_frame),\n",
    "    SkyCoord(550*u.arcsec, 450*u.arcsec, frame=m.coordinate_frame),\n",
    ")"
   ]
  },
  {
   "cell_type": "markdown",
   "metadata": {},
   "source": [
    "The locations of the bounding box corners must be expressed as `astropy.coordinates.SkyCoord` objects. A `SkyCoord` is essentially a coordinate-aware array that defines a location in that particularly coordinate system. Notice that we've said these coordinates are in the coordinate system of the image, in this case a helioprojective (HPC) coordinate system defined by the position of SDO at the time of the observation. A more extensive disucssion of coordinates in `sunpy` is given [below](#Coordinates)."
   ]
  },
  {
   "cell_type": "markdown",
   "metadata": {},
   "source": [
    "When we check the dimensions of our cutout, we should find them be to consistent with our specified bounding box."
   ]
  },
  {
   "cell_type": "code",
   "execution_count": null,
   "metadata": {},
   "outputs": [],
   "source": [
    "m_sub.dimensions"
   ]
  },
  {
   "cell_type": "code",
   "execution_count": null,
   "metadata": {},
   "outputs": [],
   "source": [
    "m_sub.peek()"
   ]
  },
  {
   "cell_type": "markdown",
   "metadata": {},
   "source": [
    "### Differential Rotation\n",
    "\n",
    "In order to account for the rotation of the solar surface, we can warp our image such that a given physical location on the Sun corresponds to approximately to the same pixel location over a given time interval. This function also accounts for the latitudinal variation in the solar rotation rate. For example, to warp our first image forward in time such that it is approximately aligned with our last image that we queried and downloaded in the first step (observed approximately 8 h after the first image),"
   ]
  },
  {
   "cell_type": "code",
   "execution_count": null,
   "metadata": {},
   "outputs": [],
   "source": [
    "m_last = Map(files[-1])"
   ]
  },
  {
   "cell_type": "code",
   "execution_count": null,
   "metadata": {},
   "outputs": [],
   "source": [
    "m_diffrot = differential_rotate(m, observer=m_last.observer_coordinate)"
   ]
  },
  {
   "cell_type": "markdown",
   "metadata": {},
   "source": [
    "Let's look at a zoomed in view of the derotated maps."
   ]
  },
  {
   "cell_type": "code",
   "execution_count": null,
   "metadata": {},
   "outputs": [],
   "source": [
    "fig = plt.figure(figsize=(18,6))\n",
    "_m_sub = m.submap(SkyCoord(150*u.arcsec, 50*u.arcsec, frame=m.coordinate_frame),\n",
    "                  SkyCoord(650*u.arcsec, 450*u.arcsec, frame=m.coordinate_frame))\n",
    "ax = fig.add_subplot(131,projection=_m_sub)\n",
    "_m_sub.plot(axes=ax)\n",
    "ax.set_title(f'Map 1, {_m_sub.date.isot}')\n",
    "_m_sub = m_last.submap(SkyCoord(150*u.arcsec, 50*u.arcsec, frame=m_last.coordinate_frame),\n",
    "                       SkyCoord(650*u.arcsec, 450*u.arcsec, frame=m_last.coordinate_frame))\n",
    "ax = fig.add_subplot(132,projection=_m_sub)\n",
    "_m_sub.plot(axes=ax)\n",
    "ax.set_title(f'Map 2, {_m_sub.date.isot}')\n",
    "_m_sub = m_diffrot.submap(SkyCoord(150*u.arcsec, 50*u.arcsec, frame=m_diffrot.coordinate_frame),\n",
    "                          SkyCoord(650*u.arcsec, 450*u.arcsec, frame=m_diffrot.coordinate_frame))\n",
    "ax = fig.add_subplot(133,projection=_m_sub)\n",
    "_m_sub.plot(axes=ax)\n",
    "ax.set_title(f'Map 1 derotated to Map 2')"
   ]
  },
  {
   "cell_type": "markdown",
   "metadata": {},
   "source": [
    "**NOTE:** We are not applying this to our submaps as this functionality is currently broken for submaps in version 1.0.3. See [this issue on GitHub](https://github.com/sunpy/sunpy/issues/3323)."
   ]
  },
  {
   "cell_type": "markdown",
   "metadata": {},
   "source": [
    "## Coordinates"
   ]
  },
  {
   "cell_type": "code",
   "execution_count": null,
   "metadata": {},
   "outputs": [],
   "source": [
    "m.coordinate_frame"
   ]
  },
  {
   "cell_type": "code",
   "execution_count": null,
   "metadata": {},
   "outputs": [],
   "source": [
    "m.center"
   ]
  },
  {
   "cell_type": "markdown",
   "metadata": {},
   "source": [
    "![coordinate frames](sunpy_frames.png)"
   ]
  },
  {
   "cell_type": "code",
   "execution_count": null,
   "metadata": {},
   "outputs": [],
   "source": [
    "m.center.transform_to('heliographic_carrington')"
   ]
  },
  {
   "cell_type": "markdown",
   "metadata": {},
   "source": [
    "We can even represent the center coordinate in terms of the right ascension and declination."
   ]
  },
  {
   "cell_type": "code",
   "execution_count": null,
   "metadata": {},
   "outputs": [],
   "source": [
    "m.center.transform_to('icrs')"
   ]
  },
  {
   "cell_type": "markdown",
   "metadata": {},
   "source": [
    "The map also holds the coordinates of the bounding box that defines the 2D map."
   ]
  },
  {
   "cell_type": "code",
   "execution_count": null,
   "metadata": {},
   "outputs": [],
   "source": [
    "m.bottom_left_coord"
   ]
  },
  {
   "cell_type": "code",
   "execution_count": null,
   "metadata": {},
   "outputs": [],
   "source": [
    "m.top_right_coord"
   ]
  },
  {
   "cell_type": "markdown",
   "metadata": {},
   "source": [
    "For several examples of the power of the coordinates stack, see the following examples:\n",
    "\n",
    "* [Modeling Coronal Loops in 3D](advanced/projecting-coronal-loops.ipynb)\n",
    "* [Plotting Fieldlines from a PFSS Extrapolation](advanced/pfss-fieldlines.ipynb)\n",
    "\n",
    "Other coordinate examples external to this tutorial:\n",
    "\n",
    "* [Overplotting HEK Features (from the sunpy example gallery)](http://docs.sunpy.org/en/stable/generated/gallery/plotting/overplot_hek_polygon.html#sphx-glr-generated-gallery-plotting-overplot-hek-polygon-py)\n",
    "* [Overplotting AIA/EUVI Coordinates](https://github.com/sunpy/tutorial-notebooks/blob/master/2019_spd/sunpy-1.0-spd2019-coordinates.ipynb)"
   ]
  },
  {
   "cell_type": "markdown",
   "metadata": {},
   "source": [
    "## Visualization"
   ]
  },
  {
   "cell_type": "markdown",
   "metadata": {},
   "source": [
    "As we've shown above the `.peek` command provides an easy way to quickly visualize our map."
   ]
  },
  {
   "cell_type": "code",
   "execution_count": null,
   "metadata": {},
   "outputs": [],
   "source": [
    "m_sub.peek()"
   ]
  },
  {
   "cell_type": "markdown",
   "metadata": {},
   "source": [
    "Note that `.peek` gives us coordinate-aware axes as well as the standard AIA 171 colormap. This is all very nice, but does not give us much control over how the plot looks. This can be a problem, particularly when preparing figures for publication.\n",
    "\n",
    "To customize the look of our plots, we can leverage all of the great features in [matplotlib](https://matplotlib.org/) to customize our plots. If we just plot our image using the standard [`imshow`](https://matplotlib.org/3.1.1/api/_as_gen/matplotlib.pyplot.imshow.html) command in matplotlib,"
   ]
  },
  {
   "cell_type": "code",
   "execution_count": null,
   "metadata": {},
   "outputs": [],
   "source": [
    "fig = plt.figure()\n",
    "ax = fig.gca()\n",
    "ax.imshow(m_sub.data)"
   ]
  },
  {
   "cell_type": "markdown",
   "metadata": {},
   "source": [
    "Note that this gives us axes in pixel coordinates and image flipped upside down. Fortunately, `Map` provides the `plot` command,"
   ]
  },
  {
   "cell_type": "code",
   "execution_count": null,
   "metadata": {},
   "outputs": [],
   "source": [
    "fig = plt.figure()\n",
    "ax = fig.gca(projection=m_sub)\n",
    "m_sub.plot(axes=ax)"
   ]
  },
  {
   "cell_type": "markdown",
   "metadata": {},
   "source": [
    "`plot` is just a wrapper around `imshow`, meaning it accepts all of the same arguments like the colormap and the limits and scale on the colorbar."
   ]
  },
  {
   "cell_type": "code",
   "execution_count": null,
   "metadata": {},
   "outputs": [],
   "source": [
    "fig = plt.figure(figsize=(6,6))\n",
    "ax = fig.gca(projection=m_sub)\n",
    "m_sub.plot(axes=ax, cmap='sohoeit171', norm=ImageNormalize(vmin=2e2,vmax=3e3,stretch=LogStretch()))\n",
    "ax.set_title('An AIA Image with an EIT Colormap');"
   ]
  },
  {
   "cell_type": "markdown",
   "metadata": {},
   "source": [
    "All of the plotting capabilities provided by sunpy/astropy are built on top of matplotlib so any desired customizations can be done using matplotlib. The additional coordinate-aware axes support is provided by the astropy-affiliated [wcsaxes](https://wcsaxes.readthedocs.io/en/latest/) package. See the [notebook on advanced plotting](advanced/plotting.ipynb) for more examples of more fine-grained control over plot appearance.\n",
    "\n",
    "The coordinate-aware capabilities allow us to easily overlay annotations or grids from other coordinate systems:"
   ]
  },
  {
   "cell_type": "markdown",
   "metadata": {},
   "source": [
    "To draw a rectangle,"
   ]
  },
  {
   "cell_type": "code",
   "execution_count": null,
   "metadata": {},
   "outputs": [],
   "source": [
    "fig = plt.figure(figsize=(6,6))\n",
    "ax = fig.gca(projection=m_sub)\n",
    "m_sub.plot(axes=ax)\n",
    "m_sub.draw_rectangle(SkyCoord(410*u.arcsec,230*u.arcsec,frame=m_sub.coordinate_frame),\n",
    "                     50*u.arcsec, 30*u.arcsec, color='r', lw=2)"
   ]
  },
  {
   "cell_type": "markdown",
   "metadata": {},
   "source": [
    "To overlay a heliographic stonyhurst (HGS) grid,"
   ]
  },
  {
   "cell_type": "code",
   "execution_count": null,
   "metadata": {},
   "outputs": [],
   "source": [
    "fig = plt.figure(figsize=(6,6))\n",
    "ax = fig.gca(projection=m_sub)\n",
    "m_sub.plot(axes=ax,title=False)\n",
    "m_sub.draw_grid(axes=ax,grid_spacing=10*u.deg,lw=2)"
   ]
  },
  {
   "cell_type": "markdown",
   "metadata": {},
   "source": [
    "Additionally, we can also plot points at arbitrary coordinates on our plot. Let's add a marker at the point where the intensity is greatest. First, find the pixel coordinate of the maximum value in the submap."
   ]
  },
  {
   "cell_type": "code",
   "execution_count": null,
   "metadata": {},
   "outputs": [],
   "source": [
    "# the order is reversed because indices are ordered row,column\n",
    "y,x = np.unravel_index(np.argmax(m_sub.data, axis=None), m_sub.data.shape)"
   ]
  },
  {
   "cell_type": "markdown",
   "metadata": {},
   "source": [
    "Next, convert the pixel coordinates to a physical coordinate"
   ]
  },
  {
   "cell_type": "code",
   "execution_count": null,
   "metadata": {},
   "outputs": [],
   "source": [
    "coord_max = m_sub.pixel_to_world(x*u.pixel, y*u.pixel)"
   ]
  },
  {
   "cell_type": "code",
   "execution_count": null,
   "metadata": {},
   "outputs": [],
   "source": [
    "coord_max"
   ]
  },
  {
   "cell_type": "markdown",
   "metadata": {},
   "source": [
    "And plot the point on our AIA 171 map."
   ]
  },
  {
   "cell_type": "code",
   "execution_count": null,
   "metadata": {},
   "outputs": [],
   "source": [
    "fig = plt.figure(figsize=(6,6))\n",
    "ax = fig.gca(projection=m_sub)\n",
    "m_sub.plot(axes=ax, title=False)\n",
    "ax.plot_coord(coord_max, marker='x', markersize=15, color='b')"
   ]
  },
  {
   "cell_type": "markdown",
   "metadata": {},
   "source": [
    "`plot_coord` can be used to plot much more interested features as well. See the [pfss fieldlines notebook](advanced/pfss-fieldlines.ipynb) for a more practical example."
   ]
  },
  {
   "cell_type": "markdown",
   "metadata": {},
   "source": [
    "As a last example, we can also add a mask to the map and it will automatically be applied when plotting. For example, to mask all pixels less than 300 DN,"
   ]
  },
  {
   "cell_type": "code",
   "execution_count": null,
   "metadata": {},
   "outputs": [],
   "source": [
    "mask = m_sub.data < 300  # This returns a boolean array\n",
    "m_sub_mask = Map(m_sub.data, m_sub.meta, mask=mask)"
   ]
  },
  {
   "cell_type": "code",
   "execution_count": null,
   "metadata": {},
   "outputs": [],
   "source": [
    "fig = plt.figure(figsize=(6,6))\n",
    "ax = fig.gca(projection=m_sub_mask)\n",
    "m_sub_mask.plot(axes=ax,title=False)"
   ]
  },
  {
   "cell_type": "markdown",
   "metadata": {},
   "source": [
    "## `aiapy`: A Python Package for Analyzing AIA Data"
   ]
  },
  {
   "cell_type": "markdown",
   "metadata": {},
   "source": [
    "In this section, we'll demo the capabilities of the recently-developed [aiapy](https://gitlab.com/LMSAL_HUB/aia_hub/aiapy) package. aiapy has been developed to be fully compatible with sunpy and the greater Python-in-Astronomy ecosystem and to extend the core capabilities of sunpy.\n",
    "\n",
    "To start, let's query a recent 335 observation using `Fido`,"
   ]
  },
  {
   "cell_type": "code",
   "execution_count": null,
   "metadata": {},
   "outputs": [],
   "source": [
    "q = Fido.search(\n",
    "    attrs.Time(TimeRange(astropy.time.Time('2017-09-10T16:00:00'), 1*u.minute)),\n",
    "    attrs.Instrument('AIA'),\n",
    "    attrs.Sample(2*u.minute),\n",
    "    attrs.Wavelength(335*u.angstrom),\n",
    ")"
   ]
  },
  {
   "cell_type": "code",
   "execution_count": null,
   "metadata": {},
   "outputs": [],
   "source": [
    "q"
   ]
  },
  {
   "cell_type": "code",
   "execution_count": null,
   "metadata": {},
   "outputs": [],
   "source": [
    "files = Fido.fetch(q)"
   ]
  },
  {
   "cell_type": "code",
   "execution_count": null,
   "metadata": {},
   "outputs": [],
   "source": [
    "# In case the VSO is not cooperating, just grab them from local filesystem\n",
    "# files = data/aia_lev1_335a_2017_09_10t16_00_00_63z_image_lev1.fits"
   ]
  },
  {
   "cell_type": "code",
   "execution_count": null,
   "metadata": {},
   "outputs": [],
   "source": [
    "m = Map(files)"
   ]
  },
  {
   "cell_type": "markdown",
   "metadata": {},
   "source": [
    "There are several steps we might want to go through to \"prep\" our `Map` for analysis. Some of these may not necessarily be included in the standard `aia_prep.pro` in SSW."
   ]
  },
  {
   "cell_type": "markdown",
   "metadata": {},
   "source": [
    "### Fixing Headers"
   ]
  },
  {
   "cell_type": "markdown",
   "metadata": {},
   "source": [
    "The first one of these is to fix the HGS observer keyword metadata. This is because the information in the FITS headers have recently been found to be innacurate.\n",
    "\n",
    "`aiapy` provides a simple function for doing this which returns a new `Map` with the adjusted header keywords."
   ]
  },
  {
   "cell_type": "code",
   "execution_count": null,
   "metadata": {},
   "outputs": [],
   "source": [
    "m_fixed = aiapy.calibrate.fix_observer_location(m)"
   ]
  },
  {
   "cell_type": "code",
   "execution_count": null,
   "metadata": {},
   "outputs": [],
   "source": [
    "print((m.meta['hgln_obs'] * u.deg).to(u.arcsec))\n",
    "print((m.meta['hglt_obs'] * u.deg).to(u.arcsec))"
   ]
  },
  {
   "cell_type": "code",
   "execution_count": null,
   "metadata": {},
   "outputs": [],
   "source": [
    "print((m_fixed.meta['hgln_obs'] * u.deg).to(u.arcsec))\n",
    "print((m_fixed.meta['hglt_obs'] * u.deg).to(u.arcsec))"
   ]
  },
  {
   "cell_type": "markdown",
   "metadata": {},
   "source": [
    "### Update Pointing"
   ]
  },
  {
   "cell_type": "markdown",
   "metadata": {},
   "source": [
    "Additionally, we might want to update the pointing information using the 3-hourly pointing tables from the JSOC.\n",
    "\n",
    "`aiapy` provides a function that takes in a map, queries the JSOC for the relevant entry in the 3-hour pointing series, and updates the relevant entries in the metadata of the `Map`."
   ]
  },
  {
   "cell_type": "code",
   "execution_count": null,
   "metadata": {},
   "outputs": [],
   "source": [
    "m_updated_pointing = aiapy.calibrate.update_pointing(m_fixed)"
   ]
  },
  {
   "cell_type": "markdown",
   "metadata": {},
   "source": [
    "This information is of course also passed on to the various attributes"
   ]
  },
  {
   "cell_type": "code",
   "execution_count": null,
   "metadata": {},
   "outputs": [],
   "source": [
    "m_fixed.reference_pixel"
   ]
  },
  {
   "cell_type": "code",
   "execution_count": null,
   "metadata": {},
   "outputs": [],
   "source": [
    "m_updated_pointing.reference_pixel"
   ]
  },
  {
   "cell_type": "markdown",
   "metadata": {},
   "source": [
    "### Image Registration"
   ]
  },
  {
   "cell_type": "markdown",
   "metadata": {},
   "source": [
    "The last step in the usual \"prep\" process is image registration; that is\n",
    "\n",
    "* aligning the y-axis of the image with solar north\n",
    "* scaling the image to a resolution of 0.6 arcseconds per pixel, and\n",
    "* translating the image such that center of the image is aligned with the center of the Sun.\n",
    "\n",
    "This can all be done using the `register` function which is really just a wrapper around the `.rotate` method on `Map`."
   ]
  },
  {
   "cell_type": "code",
   "execution_count": null,
   "metadata": {},
   "outputs": [],
   "source": [
    "m_level15 = aiapy.calibrate.register(m_updated_pointing)"
   ]
  },
  {
   "cell_type": "markdown",
   "metadata": {},
   "source": [
    "**NOTE:** `.registe` is nearly an identical copy of `sunpy.instr.aia.aiaprep`. Once `aiapy` development is more stable, users will be encouraged to use `register` over `aiaprep`. In the future, `aiaprep` will be removed from `sunpy`. See [this GitHub issue](https://github.com/sunpy/sunpy/issues/3282) for more details."
   ]
  },
  {
   "cell_type": "markdown",
   "metadata": {},
   "source": [
    "The differences are relatively small and difficult to identify visually. However, if we look at the rotation matrices before and after, we see that our registration operation has diagonalized the rotation matrix."
   ]
  },
  {
   "cell_type": "code",
   "execution_count": null,
   "metadata": {},
   "outputs": [],
   "source": [
    "m_updated_pointing.rotation_matrix"
   ]
  },
  {
   "cell_type": "code",
   "execution_count": null,
   "metadata": {},
   "outputs": [],
   "source": [
    "m_level15.rotation_matrix"
   ]
  },
  {
   "cell_type": "markdown",
   "metadata": {},
   "source": [
    "### Image Degradation"
   ]
  },
  {
   "cell_type": "markdown",
   "metadata": {},
   "source": [
    "In addition to the more typical prep operations, `aiapy` also provides a function for calculating the time-dependent degradation for a given channel,"
   ]
  },
  {
   "cell_type": "code",
   "execution_count": null,
   "metadata": {},
   "outputs": [],
   "source": [
    "degradation = aiapy.calibrate.degradation_correction(m_level15.wavelength, m_level15.date)"
   ]
  },
  {
   "cell_type": "markdown",
   "metadata": {},
   "source": [
    "To apply this correction to our `Map`,"
   ]
  },
  {
   "cell_type": "code",
   "execution_count": null,
   "metadata": {},
   "outputs": [],
   "source": [
    "m_corrected = Map(m_level15.data / degradation, m_level15.meta)"
   ]
  },
  {
   "cell_type": "markdown",
   "metadata": {},
   "source": [
    "The above steps will be encapsulated in a single function and added to `aiapy` in the near future.\n",
    "\n",
    "We can then compare the uncorrected and corrected images and look at their difference."
   ]
  },
  {
   "cell_type": "code",
   "execution_count": null,
   "metadata": {},
   "outputs": [],
   "source": [
    "fig = plt.figure(figsize=(18,6))\n",
    "norm = ImageNormalize(vmin=0, vmax=5e2, stretch=SqrtStretch())\n",
    "ax = fig.add_subplot(131, projection=m_level15)\n",
    "m_level15.plot(axes=ax, norm=norm)\n",
    "ax.set_title('Uncorrected')\n",
    "ax = fig.add_subplot(132, projection=m_corrected)\n",
    "m_corrected.plot(axes=ax, norm=norm)\n",
    "ax.set_title('Corrected')\n",
    "ax.coords[1].set_ticklabel_visible(False)\n",
    "m_diff = Map(m_corrected.data - m_level15.data, m_corrected.meta,)\n",
    "ax = fig.add_subplot(133, projection=m_diff)\n",
    "m_diff.plot(axes=ax, vmin=0, vmax=500, cmap='viridis')\n",
    "ax.set_title('Difference')\n",
    "ax.coords[1].set_ticklabel_visible(False)\n",
    "plt.subplots_adjust(wspace=0.05)"
   ]
  },
  {
   "cell_type": "markdown",
   "metadata": {},
   "source": [
    "Using this function, we can also easily plot the degradation of the 335 channel as a function of the lifetime of the mission."
   ]
  },
  {
   "cell_type": "code",
   "execution_count": null,
   "metadata": {},
   "outputs": [],
   "source": [
    "mission_time = astropy.time.Time('2010-06-01T00:00:00',scale='utc') + np.arange(0,9,0.01)*u.year"
   ]
  },
  {
   "cell_type": "code",
   "execution_count": null,
   "metadata": {},
   "outputs": [],
   "source": [
    "# Only read this table once\n",
    "correction_table = aiapy.calibrate.util.get_correction_table()"
   ]
  },
  {
   "cell_type": "code",
   "execution_count": null,
   "metadata": {},
   "outputs": [],
   "source": [
    "degradation_335 = u.Quantity([aiapy.calibrate.degradation_correction(m_level15.wavelength,t,correction_table=correction_table).value\n",
    "                              for t in mission_time])"
   ]
  },
  {
   "cell_type": "code",
   "execution_count": null,
   "metadata": {},
   "outputs": [],
   "source": [
    "fig = plt.figure(figsize=(10,4))\n",
    "ax = fig.gca()\n",
    "ax.plot((mission_time - mission_time[0]).to(u.year), degradation_335)\n",
    "ax.set_xlabel('Time since start of mission [years]');\n",
    "ax.set_ylabel(r'$A_{eff}(t)/A_{eff}(t_0)$, 335 $\\mathrm{\\AA}$');"
   ]
  },
  {
   "cell_type": "markdown",
   "metadata": {},
   "source": [
    "### Wavelength Response Functions"
   ]
  },
  {
   "cell_type": "markdown",
   "metadata": {},
   "source": [
    "Lastly, `aiapy` provides an interface to the wavelength response functions of the instrument via the `aiapy.response.Channel` object. To instantiate a `Channel`,"
   ]
  },
  {
   "cell_type": "code",
   "execution_count": null,
   "metadata": {},
   "outputs": [],
   "source": [
    "chan = aiapy.response.Channel(m_level15.wavelength)"
   ]
  },
  {
   "cell_type": "markdown",
   "metadata": {},
   "source": [
    "`chan` now holds various properties of that particular channel, including basic metadata,"
   ]
  },
  {
   "cell_type": "code",
   "execution_count": null,
   "metadata": {},
   "outputs": [],
   "source": [
    "chan.channel"
   ]
  },
  {
   "cell_type": "code",
   "execution_count": null,
   "metadata": {},
   "outputs": [],
   "source": [
    "chan.name"
   ]
  },
  {
   "cell_type": "code",
   "execution_count": null,
   "metadata": {},
   "outputs": [],
   "source": [
    "chan.plate_scale"
   ]
  },
  {
   "cell_type": "markdown",
   "metadata": {},
   "source": [
    "As well as the various wavelength-dependent properties of the telescope."
   ]
  },
  {
   "cell_type": "code",
   "execution_count": null,
   "metadata": {},
   "outputs": [],
   "source": [
    "fig,axes = plt.subplots(1,3,figsize=(15,5),sharex=True,sharey=True)\n",
    "axes[0].plot(chan.wavelength, chan.entrance_filter_efficiency)\n",
    "axes[1].plot(chan.wavelength, chan.contamination)\n",
    "axes[2].plot(chan.wavelength, chan.quantum_efficiency)\n",
    "axes[0].set_xlabel('Wavelength [$\\mathrm{\\AA}$]');\n",
    "axes[0].set_ylabel('Entrance Filter Efficiency');\n",
    "axes[1].set_xlabel('Wavelength [$\\mathrm{\\AA}$]');\n",
    "axes[1].set_ylabel('Contamination');\n",
    "axes[2].set_xlabel('Wavelength [$\\mathrm{\\AA}$]');\n",
    "axes[2].set_ylabel('Quantum Efficiency');"
   ]
  },
  {
   "cell_type": "markdown",
   "metadata": {},
   "source": [
    "Most importantly, `Channel` includes the ability to compute the wavelength response function."
   ]
  },
  {
   "cell_type": "code",
   "execution_count": null,
   "metadata": {},
   "outputs": [],
   "source": [
    "response = chan.wavelength_response()"
   ]
  },
  {
   "cell_type": "markdown",
   "metadata": {},
   "source": [
    "You can also choose to include the time-dependent degradation correction (as discussed [above](#Image-Degradation)) simply by passing in a particular observation time,"
   ]
  },
  {
   "cell_type": "code",
   "execution_count": null,
   "metadata": {},
   "outputs": [],
   "source": [
    "response_time = chan.wavelength_response(obstime=m_level15.date)"
   ]
  },
  {
   "cell_type": "markdown",
   "metadata": {},
   "source": [
    "You can also include the so-called EVE correction (also time-dependent),"
   ]
  },
  {
   "cell_type": "code",
   "execution_count": null,
   "metadata": {},
   "outputs": [],
   "source": [
    "response_eve = chan.wavelength_response(obstime=m_level15.date,include_eve_correction=True)"
   ]
  },
  {
   "cell_type": "code",
   "execution_count": null,
   "metadata": {},
   "outputs": [],
   "source": [
    "fig = plt.figure(figsize=(6,6))\n",
    "ax = fig.gca()\n",
    "ax.plot(chan.wavelength,response,label='Nominal')\n",
    "ax.plot(chan.wavelength,response_time,label='Time Correction')\n",
    "ax.plot(chan.wavelength,response_eve,label='Time+EVE Correction')\n",
    "ax.set_xlim(300,370);\n",
    "ax.set_ylim(0,0.026);\n",
    "ax.legend();\n",
    "ax.set_ylabel(f'$R(\\lambda)$ [{response.unit.to_string(\"latex\")}]');\n",
    "ax.set_xlabel(r'$\\lambda$ [$\\mathrm{\\AA}$]');"
   ]
  },
  {
   "cell_type": "markdown",
   "metadata": {},
   "source": [
    "The temperature response functions are still a work in progress and are being tracked on [this issue](https://gitlab.com/LMSAL_HUB/aia_hub/aiapy/issues/23)."
   ]
  },
  {
   "cell_type": "markdown",
   "metadata": {},
   "source": [
    "### PSF (coming soon!)"
   ]
  },
  {
   "cell_type": "code",
   "execution_count": null,
   "metadata": {},
   "outputs": [],
   "source": []
  }
 ],
 "metadata": {
  "kernelspec": {
   "display_name": "Python [conda env:lmsal-tutorial]",
   "language": "python",
   "name": "conda-env-lmsal-tutorial-py"
  },
  "language_info": {
   "codemirror_mode": {
    "name": "ipython",
    "version": 3
   },
   "file_extension": ".py",
   "mimetype": "text/x-python",
   "name": "python",
   "nbconvert_exporter": "python",
   "pygments_lexer": "ipython3",
   "version": "3.7.4"
  }
 },
 "nbformat": 4,
 "nbformat_minor": 4
}
