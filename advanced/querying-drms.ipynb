{
 "cells": [
  {
   "cell_type": "code",
   "execution_count": 9,
   "metadata": {},
   "outputs": [],
   "source": [
    "import drms\n",
    "from sunpy.util.metadata import MetaDict\n",
    "import sunpy.io.fits\n",
    "from sunpy.map import Map"
   ]
  },
  {
   "cell_type": "markdown",
   "metadata": {},
   "source": [
    "# Using `drms` to Retrieve AIA Images"
   ]
  },
  {
   "cell_type": "markdown",
   "metadata": {},
   "source": [
    "If you're in the fortunate position of not actually having to *download* the data and only need the file paths and keywords, then it may be easier to use the `drms` module directly.\n",
    "\n",
    "However, because these files are not actually exported by JSOC, the image and header data are not recombined into a single file. This means we have to do this ourselves."
   ]
  },
  {
   "cell_type": "markdown",
   "metadata": {},
   "source": [
    "First, create a `drms` client."
   ]
  },
  {
   "cell_type": "code",
   "execution_count": 2,
   "metadata": {},
   "outputs": [],
   "source": [
    "client = drms.Client()"
   ]
  },
  {
   "cell_type": "markdown",
   "metadata": {},
   "source": [
    "Next, construct a `drms` query for the same dataset in the main tutorial."
   ]
  },
  {
   "cell_type": "code",
   "execution_count": 26,
   "metadata": {},
   "outputs": [],
   "source": [
    "keys,paths = client.query(\n",
    "    'aia.lev1_euv_12s[2010-09-29T23:51:36/13h@4h][171]',\n",
    "    key=drms.const.all,\n",
    "    seg='image',\n",
    ")"
   ]
  },
  {
   "cell_type": "markdown",
   "metadata": {},
   "source": [
    "The `paths` variable gives us a table with a single column that gives the \"SUMS\" paths to the FITS file for each image."
   ]
  },
  {
   "cell_type": "code",
   "execution_count": 27,
   "metadata": {},
   "outputs": [
    {
     "data": {
      "text/html": [
       "<div>\n",
       "<style scoped>\n",
       "    .dataframe tbody tr th:only-of-type {\n",
       "        vertical-align: middle;\n",
       "    }\n",
       "\n",
       "    .dataframe tbody tr th {\n",
       "        vertical-align: top;\n",
       "    }\n",
       "\n",
       "    .dataframe thead th {\n",
       "        text-align: right;\n",
       "    }\n",
       "</style>\n",
       "<table border=\"1\" class=\"dataframe\">\n",
       "  <thead>\n",
       "    <tr style=\"text-align: right;\">\n",
       "      <th></th>\n",
       "      <th>image</th>\n",
       "    </tr>\n",
       "  </thead>\n",
       "  <tbody>\n",
       "    <tr>\n",
       "      <td>0</td>\n",
       "      <td>/SUM83/D179162188/S00000/image_lev1.fits</td>\n",
       "    </tr>\n",
       "    <tr>\n",
       "      <td>1</td>\n",
       "      <td>/SUM82/D179205869/S00000/image_lev1.fits</td>\n",
       "    </tr>\n",
       "    <tr>\n",
       "      <td>2</td>\n",
       "      <td>/SUM76/D179236846/S00000/image_lev1.fits</td>\n",
       "    </tr>\n",
       "    <tr>\n",
       "      <td>3</td>\n",
       "      <td>/SUM74/D179282080/S00000/image_lev1.fits</td>\n",
       "    </tr>\n",
       "  </tbody>\n",
       "</table>\n",
       "</div>"
      ],
      "text/plain": [
       "                                      image\n",
       "0  /SUM83/D179162188/S00000/image_lev1.fits\n",
       "1  /SUM82/D179205869/S00000/image_lev1.fits\n",
       "2  /SUM76/D179236846/S00000/image_lev1.fits\n",
       "3  /SUM74/D179282080/S00000/image_lev1.fits"
      ]
     },
     "execution_count": 27,
     "metadata": {},
     "output_type": "execute_result"
    }
   ],
   "source": [
    "paths"
   ]
  },
  {
   "cell_type": "markdown",
   "metadata": {},
   "source": [
    "**NOTE:** In some cases, it may be that the headers and data have already been combined, despite not having been exported. In this case, each path in the list of files in `paths[\"image\"]` can be passed straight to `Map` and the remaining steps are not necessary."
   ]
  },
  {
   "cell_type": "markdown",
   "metadata": {},
   "source": [
    "The `keys` variable is a table where the columns are the relevant metadata keywords and the rows are the different images."
   ]
  },
  {
   "cell_type": "code",
   "execution_count": 28,
   "metadata": {},
   "outputs": [
    {
     "data": {
      "text/html": [
       "<div>\n",
       "<style scoped>\n",
       "    .dataframe tbody tr th:only-of-type {\n",
       "        vertical-align: middle;\n",
       "    }\n",
       "\n",
       "    .dataframe tbody tr th {\n",
       "        vertical-align: top;\n",
       "    }\n",
       "\n",
       "    .dataframe thead th {\n",
       "        text-align: right;\n",
       "    }\n",
       "</style>\n",
       "<table border=\"1\" class=\"dataframe\">\n",
       "  <thead>\n",
       "    <tr style=\"text-align: right;\">\n",
       "      <th></th>\n",
       "      <th>T_REC</th>\n",
       "      <th>T_OBS</th>\n",
       "      <th>WAVELNTH</th>\n",
       "      <th>DATE</th>\n",
       "      <th>FSN</th>\n",
       "      <th>EXPTIME</th>\n",
       "      <th>QUALITY</th>\n",
       "      <th>ORIGIN</th>\n",
       "      <th>TELESCOP</th>\n",
       "      <th>INSTRUME</th>\n",
       "      <th>...</th>\n",
       "      <th>AGT2SVZ</th>\n",
       "      <th>AGT3SVY</th>\n",
       "      <th>AGT3SVZ</th>\n",
       "      <th>AGT4SVY</th>\n",
       "      <th>AGT4SVZ</th>\n",
       "      <th>AIMGSHEN</th>\n",
       "      <th>KEYWDDOC</th>\n",
       "      <th>LVL_NUM</th>\n",
       "      <th>T_REC_step</th>\n",
       "      <th>T_REC_epoch</th>\n",
       "    </tr>\n",
       "  </thead>\n",
       "  <tbody>\n",
       "    <tr>\n",
       "      <td>0</td>\n",
       "      <td>2010-09-29T23:51:38Z</td>\n",
       "      <td>2010-09-29T23:51:49.34Z</td>\n",
       "      <td>171</td>\n",
       "      <td>2012-03-27T19:47:48Z</td>\n",
       "      <td>12898482</td>\n",
       "      <td>2.000178</td>\n",
       "      <td>0</td>\n",
       "      <td>SDO/JSOC-SDP</td>\n",
       "      <td>SDO/AIA</td>\n",
       "      <td>AIA_3</td>\n",
       "      <td>...</td>\n",
       "      <td>-7</td>\n",
       "      <td>-1</td>\n",
       "      <td>-2</td>\n",
       "      <td>0</td>\n",
       "      <td>-4</td>\n",
       "      <td>13</td>\n",
       "      <td>https://www.lmsal.com/sdodocs/doc?cmd=dcur&amp;pro...</td>\n",
       "      <td>1.0</td>\n",
       "      <td>12.0</td>\n",
       "      <td>1993.01.01_00:00:04_TAI</td>\n",
       "    </tr>\n",
       "    <tr>\n",
       "      <td>1</td>\n",
       "      <td>2010-09-30T03:51:38Z</td>\n",
       "      <td>2010-09-30T03:51:49.34Z</td>\n",
       "      <td>171</td>\n",
       "      <td>2012-03-27T19:48:08Z</td>\n",
       "      <td>12908082</td>\n",
       "      <td>2.000187</td>\n",
       "      <td>0</td>\n",
       "      <td>SDO/JSOC-SDP</td>\n",
       "      <td>SDO/AIA</td>\n",
       "      <td>AIA_3</td>\n",
       "      <td>...</td>\n",
       "      <td>-3</td>\n",
       "      <td>0</td>\n",
       "      <td>2</td>\n",
       "      <td>1</td>\n",
       "      <td>0</td>\n",
       "      <td>13</td>\n",
       "      <td>https://www.lmsal.com/sdodocs/doc?cmd=dcur&amp;pro...</td>\n",
       "      <td>1.0</td>\n",
       "      <td>12.0</td>\n",
       "      <td>1993.01.01_00:00:04_TAI</td>\n",
       "    </tr>\n",
       "    <tr>\n",
       "      <td>2</td>\n",
       "      <td>2010-09-30T07:51:38Z</td>\n",
       "      <td>2010-09-30T07:51:49.34Z</td>\n",
       "      <td>171</td>\n",
       "      <td>2012-03-27T19:48:27Z</td>\n",
       "      <td>12916896</td>\n",
       "      <td>1.999605</td>\n",
       "      <td>0</td>\n",
       "      <td>SDO/JSOC-SDP</td>\n",
       "      <td>SDO/AIA</td>\n",
       "      <td>AIA_3</td>\n",
       "      <td>...</td>\n",
       "      <td>9</td>\n",
       "      <td>2</td>\n",
       "      <td>1</td>\n",
       "      <td>2</td>\n",
       "      <td>-4</td>\n",
       "      <td>4</td>\n",
       "      <td>https://www.lmsal.com/sdodocs/doc?cmd=dcur&amp;pro...</td>\n",
       "      <td>1.0</td>\n",
       "      <td>12.0</td>\n",
       "      <td>1993.01.01_00:00:04_TAI</td>\n",
       "    </tr>\n",
       "    <tr>\n",
       "      <td>3</td>\n",
       "      <td>2010-09-30T11:51:38Z</td>\n",
       "      <td>2010-09-30T11:51:49.34Z</td>\n",
       "      <td>171</td>\n",
       "      <td>2012-03-27T19:48:46Z</td>\n",
       "      <td>12926496</td>\n",
       "      <td>1.999636</td>\n",
       "      <td>0</td>\n",
       "      <td>SDO/JSOC-SDP</td>\n",
       "      <td>SDO/AIA</td>\n",
       "      <td>AIA_3</td>\n",
       "      <td>...</td>\n",
       "      <td>1</td>\n",
       "      <td>-1</td>\n",
       "      <td>1</td>\n",
       "      <td>2</td>\n",
       "      <td>-3</td>\n",
       "      <td>4</td>\n",
       "      <td>https://www.lmsal.com/sdodocs/doc?cmd=dcur&amp;pro...</td>\n",
       "      <td>1.0</td>\n",
       "      <td>12.0</td>\n",
       "      <td>1993.01.01_00:00:04_TAI</td>\n",
       "    </tr>\n",
       "  </tbody>\n",
       "</table>\n",
       "<p>4 rows × 176 columns</p>\n",
       "</div>"
      ],
      "text/plain": [
       "                  T_REC                    T_OBS  WAVELNTH  \\\n",
       "0  2010-09-29T23:51:38Z  2010-09-29T23:51:49.34Z       171   \n",
       "1  2010-09-30T03:51:38Z  2010-09-30T03:51:49.34Z       171   \n",
       "2  2010-09-30T07:51:38Z  2010-09-30T07:51:49.34Z       171   \n",
       "3  2010-09-30T11:51:38Z  2010-09-30T11:51:49.34Z       171   \n",
       "\n",
       "                   DATE       FSN   EXPTIME  QUALITY        ORIGIN TELESCOP  \\\n",
       "0  2012-03-27T19:47:48Z  12898482  2.000178        0  SDO/JSOC-SDP  SDO/AIA   \n",
       "1  2012-03-27T19:48:08Z  12908082  2.000187        0  SDO/JSOC-SDP  SDO/AIA   \n",
       "2  2012-03-27T19:48:27Z  12916896  1.999605        0  SDO/JSOC-SDP  SDO/AIA   \n",
       "3  2012-03-27T19:48:46Z  12926496  1.999636        0  SDO/JSOC-SDP  SDO/AIA   \n",
       "\n",
       "  INSTRUME  ... AGT2SVZ  AGT3SVY AGT3SVZ  AGT4SVY  AGT4SVZ AIMGSHEN  \\\n",
       "0    AIA_3  ...      -7       -1      -2        0       -4       13   \n",
       "1    AIA_3  ...      -3        0       2        1        0       13   \n",
       "2    AIA_3  ...       9        2       1        2       -4        4   \n",
       "3    AIA_3  ...       1       -1       1        2       -3        4   \n",
       "\n",
       "                                            KEYWDDOC  LVL_NUM  T_REC_step  \\\n",
       "0  https://www.lmsal.com/sdodocs/doc?cmd=dcur&pro...      1.0        12.0   \n",
       "1  https://www.lmsal.com/sdodocs/doc?cmd=dcur&pro...      1.0        12.0   \n",
       "2  https://www.lmsal.com/sdodocs/doc?cmd=dcur&pro...      1.0        12.0   \n",
       "3  https://www.lmsal.com/sdodocs/doc?cmd=dcur&pro...      1.0        12.0   \n",
       "\n",
       "               T_REC_epoch  \n",
       "0  1993.01.01_00:00:04_TAI  \n",
       "1  1993.01.01_00:00:04_TAI  \n",
       "2  1993.01.01_00:00:04_TAI  \n",
       "3  1993.01.01_00:00:04_TAI  \n",
       "\n",
       "[4 rows x 176 columns]"
      ]
     },
     "execution_count": 28,
     "metadata": {},
     "output_type": "execute_result"
    }
   ],
   "source": [
    "keys"
   ]
  },
  {
   "cell_type": "markdown",
   "metadata": {},
   "source": [
    "For each row in the `keys` table, we'll create a metadata object representing the header of each image."
   ]
  },
  {
   "cell_type": "code",
   "execution_count": 23,
   "metadata": {},
   "outputs": [],
   "source": [
    "headers = [MetaDict({k: r[k] for k in keys.columns})\n",
    "           for _,r in keys.iterrows()]"
   ]
  },
  {
   "cell_type": "markdown",
   "metadata": {},
   "source": [
    "Then, we'll use the `sunpy.io.fits` to read each of the FITS files. Note that for this to work, these have to be valid filepaths on your local machine."
   ]
  },
  {
   "cell_type": "code",
   "execution_count": null,
   "metadata": {},
   "outputs": [],
   "source": [
    "data = [sunpy.io.fits.read(p)[1][0] for p in paths['image']]"
   ]
  },
  {
   "cell_type": "markdown",
   "metadata": {},
   "source": [
    "Lastly, we'll combine the data and headers into a single `Map` object."
   ]
  },
  {
   "cell_type": "code",
   "execution_count": null,
   "metadata": {},
   "outputs": [],
   "source": [
    "maps = [Map(d,h) for d,h in zip(data,headers)]"
   ]
  },
  {
   "cell_type": "markdown",
   "metadata": {},
   "source": [
    "This workflow will work for any images available via DRMS/JSOC that have not been combined with their headers."
   ]
  },
  {
   "cell_type": "code",
   "execution_count": null,
   "metadata": {},
   "outputs": [],
   "source": []
  }
 ],
 "metadata": {
  "kernelspec": {
   "display_name": "Python [conda env:lmsal-tutorial]",
   "language": "python",
   "name": "conda-env-lmsal-tutorial-py"
  },
  "language_info": {
   "codemirror_mode": {
    "name": "ipython",
    "version": 3
   },
   "file_extension": ".py",
   "mimetype": "text/x-python",
   "name": "python",
   "nbconvert_exporter": "python",
   "pygments_lexer": "ipython3",
   "version": "3.7.4"
  }
 },
 "nbformat": 4,
 "nbformat_minor": 4
}
